{
 "cells": [
  {
   "cell_type": "code",
   "execution_count": 459,
   "metadata": {},
   "outputs": [
    {
     "data": {
      "text/html": [
       "<style>\n",
       "    body {\n",
       "        font-family: \"Times New Roman\", Times, serif; \n",
       "    }\n",
       "</style>\n"
      ],
      "text/plain": [
       "<IPython.core.display.HTML object>"
      ]
     },
     "metadata": {},
     "output_type": "display_data"
    }
   ],
   "source": [
    "%%html\n",
    "<style>\n",
    "    body {\n",
    "        font-family: \"Times New Roman\", Times, serif; \n",
    "    }\n",
    "</style>"
   ]
  },
  {
   "cell_type": "markdown",
   "metadata": {},
   "source": [
    "## 1. Report 10-fold cross-validation (“CV”) performances of the following types of classifiers, using default parameters: "
   ]
  },
  {
   "cell_type": "code",
   "execution_count": 460,
   "metadata": {},
   "outputs": [
    {
     "data": {
      "text/html": [
       "<div>\n",
       "<style scoped>\n",
       "    .dataframe tbody tr th:only-of-type {\n",
       "        vertical-align: middle;\n",
       "    }\n",
       "\n",
       "    .dataframe tbody tr th {\n",
       "        vertical-align: top;\n",
       "    }\n",
       "\n",
       "    .dataframe thead th {\n",
       "        text-align: right;\n",
       "    }\n",
       "</style>\n",
       "<table border=\"1\" class=\"dataframe\">\n",
       "  <thead>\n",
       "    <tr style=\"text-align: right;\">\n",
       "      <th></th>\n",
       "      <th>Age</th>\n",
       "      <th>Sex</th>\n",
       "      <th>ChestPainType</th>\n",
       "      <th>RestingBP</th>\n",
       "      <th>Cholesterol</th>\n",
       "      <th>FastingBS</th>\n",
       "      <th>RestingECG</th>\n",
       "      <th>MaxHR</th>\n",
       "      <th>ExerciseAngina</th>\n",
       "      <th>Oldpeak</th>\n",
       "      <th>ST_Slope</th>\n",
       "      <th>HeartDisease</th>\n",
       "    </tr>\n",
       "  </thead>\n",
       "  <tbody>\n",
       "    <tr>\n",
       "      <th>0</th>\n",
       "      <td>40</td>\n",
       "      <td>M</td>\n",
       "      <td>ATA</td>\n",
       "      <td>140</td>\n",
       "      <td>289</td>\n",
       "      <td>0</td>\n",
       "      <td>Normal</td>\n",
       "      <td>172</td>\n",
       "      <td>N</td>\n",
       "      <td>0.0</td>\n",
       "      <td>Up</td>\n",
       "      <td>0</td>\n",
       "    </tr>\n",
       "    <tr>\n",
       "      <th>1</th>\n",
       "      <td>49</td>\n",
       "      <td>F</td>\n",
       "      <td>NAP</td>\n",
       "      <td>160</td>\n",
       "      <td>180</td>\n",
       "      <td>0</td>\n",
       "      <td>Normal</td>\n",
       "      <td>156</td>\n",
       "      <td>N</td>\n",
       "      <td>1.0</td>\n",
       "      <td>Flat</td>\n",
       "      <td>1</td>\n",
       "    </tr>\n",
       "    <tr>\n",
       "      <th>2</th>\n",
       "      <td>37</td>\n",
       "      <td>M</td>\n",
       "      <td>ATA</td>\n",
       "      <td>130</td>\n",
       "      <td>283</td>\n",
       "      <td>0</td>\n",
       "      <td>ST</td>\n",
       "      <td>98</td>\n",
       "      <td>N</td>\n",
       "      <td>0.0</td>\n",
       "      <td>Up</td>\n",
       "      <td>0</td>\n",
       "    </tr>\n",
       "    <tr>\n",
       "      <th>3</th>\n",
       "      <td>48</td>\n",
       "      <td>F</td>\n",
       "      <td>ASY</td>\n",
       "      <td>138</td>\n",
       "      <td>214</td>\n",
       "      <td>0</td>\n",
       "      <td>Normal</td>\n",
       "      <td>108</td>\n",
       "      <td>Y</td>\n",
       "      <td>1.5</td>\n",
       "      <td>Flat</td>\n",
       "      <td>1</td>\n",
       "    </tr>\n",
       "    <tr>\n",
       "      <th>4</th>\n",
       "      <td>54</td>\n",
       "      <td>M</td>\n",
       "      <td>NAP</td>\n",
       "      <td>150</td>\n",
       "      <td>195</td>\n",
       "      <td>0</td>\n",
       "      <td>Normal</td>\n",
       "      <td>122</td>\n",
       "      <td>N</td>\n",
       "      <td>0.0</td>\n",
       "      <td>Up</td>\n",
       "      <td>0</td>\n",
       "    </tr>\n",
       "    <tr>\n",
       "      <th>...</th>\n",
       "      <td>...</td>\n",
       "      <td>...</td>\n",
       "      <td>...</td>\n",
       "      <td>...</td>\n",
       "      <td>...</td>\n",
       "      <td>...</td>\n",
       "      <td>...</td>\n",
       "      <td>...</td>\n",
       "      <td>...</td>\n",
       "      <td>...</td>\n",
       "      <td>...</td>\n",
       "      <td>...</td>\n",
       "    </tr>\n",
       "    <tr>\n",
       "      <th>913</th>\n",
       "      <td>45</td>\n",
       "      <td>M</td>\n",
       "      <td>TA</td>\n",
       "      <td>110</td>\n",
       "      <td>264</td>\n",
       "      <td>0</td>\n",
       "      <td>Normal</td>\n",
       "      <td>132</td>\n",
       "      <td>N</td>\n",
       "      <td>1.2</td>\n",
       "      <td>Flat</td>\n",
       "      <td>1</td>\n",
       "    </tr>\n",
       "    <tr>\n",
       "      <th>914</th>\n",
       "      <td>68</td>\n",
       "      <td>M</td>\n",
       "      <td>ASY</td>\n",
       "      <td>144</td>\n",
       "      <td>193</td>\n",
       "      <td>1</td>\n",
       "      <td>Normal</td>\n",
       "      <td>141</td>\n",
       "      <td>N</td>\n",
       "      <td>3.4</td>\n",
       "      <td>Flat</td>\n",
       "      <td>1</td>\n",
       "    </tr>\n",
       "    <tr>\n",
       "      <th>915</th>\n",
       "      <td>57</td>\n",
       "      <td>M</td>\n",
       "      <td>ASY</td>\n",
       "      <td>130</td>\n",
       "      <td>131</td>\n",
       "      <td>0</td>\n",
       "      <td>Normal</td>\n",
       "      <td>115</td>\n",
       "      <td>Y</td>\n",
       "      <td>1.2</td>\n",
       "      <td>Flat</td>\n",
       "      <td>1</td>\n",
       "    </tr>\n",
       "    <tr>\n",
       "      <th>916</th>\n",
       "      <td>57</td>\n",
       "      <td>F</td>\n",
       "      <td>ATA</td>\n",
       "      <td>130</td>\n",
       "      <td>236</td>\n",
       "      <td>0</td>\n",
       "      <td>LVH</td>\n",
       "      <td>174</td>\n",
       "      <td>N</td>\n",
       "      <td>0.0</td>\n",
       "      <td>Flat</td>\n",
       "      <td>1</td>\n",
       "    </tr>\n",
       "    <tr>\n",
       "      <th>917</th>\n",
       "      <td>38</td>\n",
       "      <td>M</td>\n",
       "      <td>NAP</td>\n",
       "      <td>138</td>\n",
       "      <td>175</td>\n",
       "      <td>0</td>\n",
       "      <td>Normal</td>\n",
       "      <td>173</td>\n",
       "      <td>N</td>\n",
       "      <td>0.0</td>\n",
       "      <td>Up</td>\n",
       "      <td>0</td>\n",
       "    </tr>\n",
       "  </tbody>\n",
       "</table>\n",
       "<p>918 rows × 12 columns</p>\n",
       "</div>"
      ],
      "text/plain": [
       "     Age Sex ChestPainType  RestingBP  Cholesterol  FastingBS RestingECG  \\\n",
       "0     40   M           ATA        140          289          0     Normal   \n",
       "1     49   F           NAP        160          180          0     Normal   \n",
       "2     37   M           ATA        130          283          0         ST   \n",
       "3     48   F           ASY        138          214          0     Normal   \n",
       "4     54   M           NAP        150          195          0     Normal   \n",
       "..   ...  ..           ...        ...          ...        ...        ...   \n",
       "913   45   M            TA        110          264          0     Normal   \n",
       "914   68   M           ASY        144          193          1     Normal   \n",
       "915   57   M           ASY        130          131          0     Normal   \n",
       "916   57   F           ATA        130          236          0        LVH   \n",
       "917   38   M           NAP        138          175          0     Normal   \n",
       "\n",
       "     MaxHR ExerciseAngina  Oldpeak ST_Slope  HeartDisease  \n",
       "0      172              N      0.0       Up             0  \n",
       "1      156              N      1.0     Flat             1  \n",
       "2       98              N      0.0       Up             0  \n",
       "3      108              Y      1.5     Flat             1  \n",
       "4      122              N      0.0       Up             0  \n",
       "..     ...            ...      ...      ...           ...  \n",
       "913    132              N      1.2     Flat             1  \n",
       "914    141              N      3.4     Flat             1  \n",
       "915    115              Y      1.2     Flat             1  \n",
       "916    174              N      0.0     Flat             1  \n",
       "917    173              N      0.0       Up             0  \n",
       "\n",
       "[918 rows x 12 columns]"
      ]
     },
     "execution_count": 460,
     "metadata": {},
     "output_type": "execute_result"
    }
   ],
   "source": [
    "import pandas as pd\n",
    "import numpy as np\n",
    "from sklearn.model_selection import StratifiedKFold\n",
    "from sklearn.preprocessing import StandardScaler, OneHotEncoder\n",
    "from sklearn.naive_bayes import GaussianNB\n",
    "from sklearn.svm import SVC\n",
    "from sklearn.neural_network import MLPClassifier\n",
    "from sklearn.tree import DecisionTreeClassifier\n",
    "from sklearn.ensemble import RandomForestClassifier\n",
    "from sklearn.metrics import accuracy_score\n",
    "\n",
    "df = pd.read_csv('heart.csv')\n",
    "\n",
    "df\n"
   ]
  },
  {
   "cell_type": "markdown",
   "metadata": {},
   "source": [
    "Extract the dependent variable"
   ]
  },
  {
   "cell_type": "code",
   "execution_count": 461,
   "metadata": {},
   "outputs": [],
   "source": [
    "X = df.drop(columns=['HeartDisease'])\n",
    "y = df['HeartDisease']\n"
   ]
  },
  {
   "cell_type": "markdown",
   "metadata": {},
   "source": [
    "Transform nominal features to numerical. Also conduct standarization to the numerical features."
   ]
  },
  {
   "cell_type": "code",
   "execution_count": 462,
   "metadata": {},
   "outputs": [
    {
     "data": {
      "text/html": [
       "<div>\n",
       "<style scoped>\n",
       "    .dataframe tbody tr th:only-of-type {\n",
       "        vertical-align: middle;\n",
       "    }\n",
       "\n",
       "    .dataframe tbody tr th {\n",
       "        vertical-align: top;\n",
       "    }\n",
       "\n",
       "    .dataframe thead th {\n",
       "        text-align: right;\n",
       "    }\n",
       "</style>\n",
       "<table border=\"1\" class=\"dataframe\">\n",
       "  <thead>\n",
       "    <tr style=\"text-align: right;\">\n",
       "      <th></th>\n",
       "      <th>Age</th>\n",
       "      <th>RestingBP</th>\n",
       "      <th>Cholesterol</th>\n",
       "      <th>FastingBS</th>\n",
       "      <th>MaxHR</th>\n",
       "      <th>Oldpeak</th>\n",
       "      <th>Sex_M</th>\n",
       "      <th>ChestPainType_ATA</th>\n",
       "      <th>ChestPainType_NAP</th>\n",
       "      <th>ChestPainType_TA</th>\n",
       "      <th>RestingECG_Normal</th>\n",
       "      <th>RestingECG_ST</th>\n",
       "      <th>ExerciseAngina_Y</th>\n",
       "      <th>ST_Slope_Flat</th>\n",
       "      <th>ST_Slope_Up</th>\n",
       "    </tr>\n",
       "  </thead>\n",
       "  <tbody>\n",
       "    <tr>\n",
       "      <th>0</th>\n",
       "      <td>-1.433140</td>\n",
       "      <td>0.410909</td>\n",
       "      <td>0.825070</td>\n",
       "      <td>-0.551341</td>\n",
       "      <td>1.382928</td>\n",
       "      <td>-0.832432</td>\n",
       "      <td>True</td>\n",
       "      <td>True</td>\n",
       "      <td>False</td>\n",
       "      <td>False</td>\n",
       "      <td>True</td>\n",
       "      <td>False</td>\n",
       "      <td>False</td>\n",
       "      <td>False</td>\n",
       "      <td>True</td>\n",
       "    </tr>\n",
       "    <tr>\n",
       "      <th>1</th>\n",
       "      <td>-0.478484</td>\n",
       "      <td>1.491752</td>\n",
       "      <td>-0.171961</td>\n",
       "      <td>-0.551341</td>\n",
       "      <td>0.754157</td>\n",
       "      <td>0.105664</td>\n",
       "      <td>False</td>\n",
       "      <td>False</td>\n",
       "      <td>True</td>\n",
       "      <td>False</td>\n",
       "      <td>True</td>\n",
       "      <td>False</td>\n",
       "      <td>False</td>\n",
       "      <td>True</td>\n",
       "      <td>False</td>\n",
       "    </tr>\n",
       "    <tr>\n",
       "      <th>2</th>\n",
       "      <td>-1.751359</td>\n",
       "      <td>-0.129513</td>\n",
       "      <td>0.770188</td>\n",
       "      <td>-0.551341</td>\n",
       "      <td>-1.525138</td>\n",
       "      <td>-0.832432</td>\n",
       "      <td>True</td>\n",
       "      <td>True</td>\n",
       "      <td>False</td>\n",
       "      <td>False</td>\n",
       "      <td>False</td>\n",
       "      <td>True</td>\n",
       "      <td>False</td>\n",
       "      <td>False</td>\n",
       "      <td>True</td>\n",
       "    </tr>\n",
       "    <tr>\n",
       "      <th>3</th>\n",
       "      <td>-0.584556</td>\n",
       "      <td>0.302825</td>\n",
       "      <td>0.139040</td>\n",
       "      <td>-0.551341</td>\n",
       "      <td>-1.132156</td>\n",
       "      <td>0.574711</td>\n",
       "      <td>False</td>\n",
       "      <td>False</td>\n",
       "      <td>False</td>\n",
       "      <td>False</td>\n",
       "      <td>True</td>\n",
       "      <td>False</td>\n",
       "      <td>True</td>\n",
       "      <td>True</td>\n",
       "      <td>False</td>\n",
       "    </tr>\n",
       "    <tr>\n",
       "      <th>4</th>\n",
       "      <td>0.051881</td>\n",
       "      <td>0.951331</td>\n",
       "      <td>-0.034755</td>\n",
       "      <td>-0.551341</td>\n",
       "      <td>-0.581981</td>\n",
       "      <td>-0.832432</td>\n",
       "      <td>True</td>\n",
       "      <td>False</td>\n",
       "      <td>True</td>\n",
       "      <td>False</td>\n",
       "      <td>True</td>\n",
       "      <td>False</td>\n",
       "      <td>False</td>\n",
       "      <td>False</td>\n",
       "      <td>True</td>\n",
       "    </tr>\n",
       "    <tr>\n",
       "      <th>...</th>\n",
       "      <td>...</td>\n",
       "      <td>...</td>\n",
       "      <td>...</td>\n",
       "      <td>...</td>\n",
       "      <td>...</td>\n",
       "      <td>...</td>\n",
       "      <td>...</td>\n",
       "      <td>...</td>\n",
       "      <td>...</td>\n",
       "      <td>...</td>\n",
       "      <td>...</td>\n",
       "      <td>...</td>\n",
       "      <td>...</td>\n",
       "      <td>...</td>\n",
       "      <td>...</td>\n",
       "    </tr>\n",
       "    <tr>\n",
       "      <th>913</th>\n",
       "      <td>-0.902775</td>\n",
       "      <td>-1.210356</td>\n",
       "      <td>0.596393</td>\n",
       "      <td>-0.551341</td>\n",
       "      <td>-0.188999</td>\n",
       "      <td>0.293283</td>\n",
       "      <td>True</td>\n",
       "      <td>False</td>\n",
       "      <td>False</td>\n",
       "      <td>True</td>\n",
       "      <td>True</td>\n",
       "      <td>False</td>\n",
       "      <td>False</td>\n",
       "      <td>True</td>\n",
       "      <td>False</td>\n",
       "    </tr>\n",
       "    <tr>\n",
       "      <th>914</th>\n",
       "      <td>1.536902</td>\n",
       "      <td>0.627078</td>\n",
       "      <td>-0.053049</td>\n",
       "      <td>1.813758</td>\n",
       "      <td>0.164684</td>\n",
       "      <td>2.357094</td>\n",
       "      <td>True</td>\n",
       "      <td>False</td>\n",
       "      <td>False</td>\n",
       "      <td>False</td>\n",
       "      <td>True</td>\n",
       "      <td>False</td>\n",
       "      <td>False</td>\n",
       "      <td>True</td>\n",
       "      <td>False</td>\n",
       "    </tr>\n",
       "    <tr>\n",
       "      <th>915</th>\n",
       "      <td>0.370100</td>\n",
       "      <td>-0.129513</td>\n",
       "      <td>-0.620168</td>\n",
       "      <td>-0.551341</td>\n",
       "      <td>-0.857069</td>\n",
       "      <td>0.293283</td>\n",
       "      <td>True</td>\n",
       "      <td>False</td>\n",
       "      <td>False</td>\n",
       "      <td>False</td>\n",
       "      <td>True</td>\n",
       "      <td>False</td>\n",
       "      <td>True</td>\n",
       "      <td>True</td>\n",
       "      <td>False</td>\n",
       "    </tr>\n",
       "    <tr>\n",
       "      <th>916</th>\n",
       "      <td>0.370100</td>\n",
       "      <td>-0.129513</td>\n",
       "      <td>0.340275</td>\n",
       "      <td>-0.551341</td>\n",
       "      <td>1.461525</td>\n",
       "      <td>-0.832432</td>\n",
       "      <td>False</td>\n",
       "      <td>True</td>\n",
       "      <td>False</td>\n",
       "      <td>False</td>\n",
       "      <td>False</td>\n",
       "      <td>False</td>\n",
       "      <td>False</td>\n",
       "      <td>True</td>\n",
       "      <td>False</td>\n",
       "    </tr>\n",
       "    <tr>\n",
       "      <th>917</th>\n",
       "      <td>-1.645286</td>\n",
       "      <td>0.302825</td>\n",
       "      <td>-0.217696</td>\n",
       "      <td>-0.551341</td>\n",
       "      <td>1.422226</td>\n",
       "      <td>-0.832432</td>\n",
       "      <td>True</td>\n",
       "      <td>False</td>\n",
       "      <td>True</td>\n",
       "      <td>False</td>\n",
       "      <td>True</td>\n",
       "      <td>False</td>\n",
       "      <td>False</td>\n",
       "      <td>False</td>\n",
       "      <td>True</td>\n",
       "    </tr>\n",
       "  </tbody>\n",
       "</table>\n",
       "<p>918 rows × 15 columns</p>\n",
       "</div>"
      ],
      "text/plain": [
       "          Age  RestingBP  Cholesterol  FastingBS     MaxHR   Oldpeak  Sex_M  \\\n",
       "0   -1.433140   0.410909     0.825070  -0.551341  1.382928 -0.832432   True   \n",
       "1   -0.478484   1.491752    -0.171961  -0.551341  0.754157  0.105664  False   \n",
       "2   -1.751359  -0.129513     0.770188  -0.551341 -1.525138 -0.832432   True   \n",
       "3   -0.584556   0.302825     0.139040  -0.551341 -1.132156  0.574711  False   \n",
       "4    0.051881   0.951331    -0.034755  -0.551341 -0.581981 -0.832432   True   \n",
       "..        ...        ...          ...        ...       ...       ...    ...   \n",
       "913 -0.902775  -1.210356     0.596393  -0.551341 -0.188999  0.293283   True   \n",
       "914  1.536902   0.627078    -0.053049   1.813758  0.164684  2.357094   True   \n",
       "915  0.370100  -0.129513    -0.620168  -0.551341 -0.857069  0.293283   True   \n",
       "916  0.370100  -0.129513     0.340275  -0.551341  1.461525 -0.832432  False   \n",
       "917 -1.645286   0.302825    -0.217696  -0.551341  1.422226 -0.832432   True   \n",
       "\n",
       "     ChestPainType_ATA  ChestPainType_NAP  ChestPainType_TA  \\\n",
       "0                 True              False             False   \n",
       "1                False               True             False   \n",
       "2                 True              False             False   \n",
       "3                False              False             False   \n",
       "4                False               True             False   \n",
       "..                 ...                ...               ...   \n",
       "913              False              False              True   \n",
       "914              False              False             False   \n",
       "915              False              False             False   \n",
       "916               True              False             False   \n",
       "917              False               True             False   \n",
       "\n",
       "     RestingECG_Normal  RestingECG_ST  ExerciseAngina_Y  ST_Slope_Flat  \\\n",
       "0                 True          False             False          False   \n",
       "1                 True          False             False           True   \n",
       "2                False           True             False          False   \n",
       "3                 True          False              True           True   \n",
       "4                 True          False             False          False   \n",
       "..                 ...            ...               ...            ...   \n",
       "913               True          False             False           True   \n",
       "914               True          False             False           True   \n",
       "915               True          False              True           True   \n",
       "916              False          False             False           True   \n",
       "917               True          False             False          False   \n",
       "\n",
       "     ST_Slope_Up  \n",
       "0           True  \n",
       "1          False  \n",
       "2           True  \n",
       "3          False  \n",
       "4           True  \n",
       "..           ...  \n",
       "913        False  \n",
       "914        False  \n",
       "915        False  \n",
       "916        False  \n",
       "917         True  \n",
       "\n",
       "[918 rows x 15 columns]"
      ]
     },
     "execution_count": 462,
     "metadata": {},
     "output_type": "execute_result"
    }
   ],
   "source": [
    "categorical_features = X.select_dtypes(include=['object']).columns.tolist()\n",
    "numerical_features = X.select_dtypes(include=['int64', 'float64']).columns.tolist()\n",
    "\n",
    "# Standarization\n",
    "scaler = StandardScaler()\n",
    "X[numerical_features] = scaler.fit_transform(X[numerical_features])\n",
    "\n",
    "# Nominal to numerical\n",
    "X = pd.get_dummies(X, columns=categorical_features, drop_first=True)\n",
    "\n",
    "X"
   ]
  },
  {
   "cell_type": "code",
   "execution_count": 463,
   "metadata": {},
   "outputs": [
    {
     "data": {
      "text/plain": [
       "array([[-1.4331398004436657, 0.4109088920930765, 0.825070260880155, ...,\n",
       "        False, False, True],\n",
       "       [-0.47848358571613486, 1.4917523389166985, -0.171961047319812,\n",
       "        ..., False, True, False],\n",
       "       [-1.751358538686176, -0.12951283131873445, 0.7701878035480467,\n",
       "        ..., False, False, True],\n",
       "       ...,\n",
       "       [0.37009971626389254, -0.12951283131873445, -0.6201677821986963,\n",
       "        ..., True, True, False],\n",
       "       [0.37009971626389254, -0.12951283131873445, 0.3402752211131986,\n",
       "        ..., False, True, False],\n",
       "       [-1.6452856259386726, 0.3028245474107143, -0.21769642842990222,\n",
       "        ..., False, False, True]], dtype=object)"
      ]
     },
     "execution_count": 463,
     "metadata": {},
     "output_type": "execute_result"
    }
   ],
   "source": [
    "# Convert DataFrame to numpy array\n",
    "X=X.values\n",
    "y=y.values\n",
    "\n",
    "X"
   ]
  },
  {
   "cell_type": "markdown",
   "metadata": {},
   "source": [
    "Define the classifiers"
   ]
  },
  {
   "cell_type": "code",
   "execution_count": 464,
   "metadata": {},
   "outputs": [],
   "source": [
    "classifiers = {\n",
    "    'GaussianNB': GaussianNB(),\n",
    "    'Linear SVC': SVC(kernel='linear', probability=True),\n",
    "    'MLPClassifier': MLPClassifier(),\n",
    "    'DecisionTreeClassifier': DecisionTreeClassifier()\n",
    "}"
   ]
  },
  {
   "cell_type": "markdown",
   "metadata": {},
   "source": [
    "Define the evaluation function, 10-fold CV"
   ]
  },
  {
   "cell_type": "code",
   "execution_count": 465,
   "metadata": {},
   "outputs": [],
   "source": [
    "def eval_classifier(_clf, _X, _y):\n",
    "    accuracies = []\n",
    "    kf = StratifiedKFold(n_splits=10, shuffle=True, random_state=0)\n",
    "    for train_index, test_index in kf.split(_X, _y):\n",
    "        _clf.fit(_X[train_index], _y[train_index])\n",
    "        y_pred = _clf.predict(_X[test_index])\n",
    "        accuracies += [accuracy_score(_y[test_index], y_pred)]\n",
    "    return np.array(accuracies)"
   ]
  },
  {
   "cell_type": "code",
   "execution_count": 466,
   "metadata": {},
   "outputs": [
    {
     "name": "stdout",
     "output_type": "stream",
     "text": [
      "GaussianNB CV accuracy=0.86 ±0.037\n",
      "Linear SVC CV accuracy=0.86 ±0.025\n",
      "MLPClassifier CV accuracy=0.87 ±0.029\n",
      "DecisionTreeClassifier CV accuracy=0.79 ±0.035\n"
     ]
    }
   ],
   "source": [
    "from sklearn.exceptions import ConvergenceWarning\n",
    "import warnings\n",
    "warnings.filterwarnings(\"ignore\", category=ConvergenceWarning)\n",
    "\n",
    "for name, clf in classifiers.items():\n",
    "    acc = eval_classifier(clf, X, y)  \n",
    "    print(f'{name} CV accuracy={np.mean(acc):.2f} {chr(177)}{np.std(acc):.3f}')"
   ]
  },
  {
   "cell_type": "code",
   "execution_count": 467,
   "metadata": {},
   "outputs": [
    {
     "name": "stdout",
     "output_type": "stream",
     "text": [
      "RandomForestClassifier Test Accuracy: 0.85\n"
     ]
    }
   ],
   "source": [
    "from sklearn.model_selection import train_test_split\n",
    "\n",
    "X_train, X_test, y_train, y_test = train_test_split(X, y, test_size=0.2, random_state=0)\n",
    "rf_clf = RandomForestClassifier(random_state=0)\n",
    "rf_clf.fit(X_train, y_train)\n",
    "rf_score = rf_clf.score(X_test, y_test)\n",
    "print(f\"RandomForestClassifier Test Accuracy: {rf_score:.2f}\")\n"
   ]
  },
  {
   "cell_type": "markdown",
   "metadata": {},
   "source": [
    "## 2. Generate an ensemble of 100 classifiers for each of the four basic classifiers in Q1. and store each ensemble as a list."
   ]
  },
  {
   "cell_type": "code",
   "execution_count": 479,
   "metadata": {},
   "outputs": [],
   "source": [
    "X_train, X_test, y_train, y_test = train_test_split(X, y, test_size=0.2, random_state=42)\n",
    "\n",
    "ensemble_size = 100\n",
    "# store each ensemble as a list\n",
    "ensembles = {\n",
    "    'GaussianNB': [GaussianNB() for _ in range(ensemble_size)],\n",
    "    'LinearSVC': [SVC(kernel='linear', probability=True) for _ in range(ensemble_size)],\n",
    "    'MLPClassifier': [MLPClassifier(hidden_layer_sizes=(3, 3), max_iter=30, tol=1e-1, random_state=42) for _ in range(ensemble_size)],\n",
    "    'DecisionTreeClassifier': [DecisionTreeClassifier(max_depth=5, max_features=5, random_state=42) for _ in range(ensemble_size)]\n",
    "}"
   ]
  },
  {
   "cell_type": "code",
   "execution_count": 480,
   "metadata": {},
   "outputs": [
    {
     "name": "stdout",
     "output_type": "stream",
     "text": [
      "Accuracy of the first GaussianNB: 0.86\n",
      "Accuracy of the first LinearSVC: 0.85\n",
      "Accuracy of the first MLPClassifier: 0.47\n",
      "Accuracy of the first DecisionTreeClassifier: 0.86\n"
     ]
    }
   ],
   "source": [
    "results = {}\n",
    "for name, classifier in ensembles.items():\n",
    "    classifier[0].fit(X_train, y_train)  # Train the first classifier\n",
    "    y_pred = classifier[0].predict(X_test)  # Predict the test set\n",
    "    accuracy = accuracy_score(y_test, y_pred)  # Calculate accuracy\n",
    "    results[name] = accuracy\n",
    "    print(f\"Accuracy of the first {name}: {accuracy:.2f}\")"
   ]
  },
  {
   "cell_type": "markdown",
   "metadata": {},
   "source": [
    "## 3. Write a function ensemble_fit() to receive the ensemble (i.e. one of the 4 lists from Q2.) as an input and train it on one of the subsets (i.e. bagging) of the training data.\n",
    "\n",
    "only subsample the rows/observations."
   ]
  },
  {
   "cell_type": "code",
   "execution_count": 446,
   "metadata": {},
   "outputs": [],
   "source": [
    "import random\n",
    "\n",
    "def randomsubset(total_samples, subset_size):\n",
    "     return random.sample(range(total_samples), subset_size)"
   ]
  },
  {
   "cell_type": "code",
   "execution_count": 447,
   "metadata": {},
   "outputs": [
    {
     "name": "stdout",
     "output_type": "stream",
     "text": [
      "Accuracy of the first GaussianNB classifier: 0.85\n",
      "Accuracy of the first LinearSVC classifier: 0.82\n",
      "Accuracy of the first MLPClassifier classifier: 0.42\n",
      "Accuracy of the first DecisionTreeClassifier classifier: 0.79\n"
     ]
    }
   ],
   "source": [
    "def ensemble_fit(ensemble, X_train, y_train, subset_size):\n",
    "    n_samples = X_train.shape[0]\n",
    "    trained_ensemble = []\n",
    "    for clf in ensemble:\n",
    "        # Get a random subset of indices\n",
    "        indices = randomsubset(n_samples, subset_size)\n",
    "        \n",
    "        # Subset the training data\n",
    "        X_subset = X_train[indices]\n",
    "        y_subset = y_train[indices]\n",
    "        \n",
    "        # Train the classifier on the subset\n",
    "        clf.fit(X_subset, y_subset)\n",
    "\n",
    "        predictions = clf.predict(X_test)\n",
    "        trained_ensemble.append(clf)\n",
    "    return trained_ensemble\n",
    "\n",
    "\n",
    "trained_ensembles = {name: ensemble_fit(clfs, X_train, y_train, subset_size=100) for name, clfs in ensembles.items()}\n",
    "\n",
    "def evaluate_classifier(clf, X_test, y_test):\n",
    "    y_pred = clf.predict(X_test)\n",
    "    return accuracy_score(y_test, y_pred)\n",
    "\n",
    "# Print the performance\n",
    "for ensemble_name, classifier in trained_ensembles.items():\n",
    "    first_clf = classifier[0]  # Get the first classifier from the ensemble\n",
    "    accuracy = evaluate_classifier(first_clf, X_test, y_test)\n",
    "    print(f\"Accuracy of the first {ensemble_name} classifier: {accuracy:.2f}\")"
   ]
  },
  {
   "cell_type": "markdown",
   "metadata": {},
   "source": [
    "## 4. Write a function ensemble_predict() to receive the trained ensemble (i.e. one of the lists from Q3.) as input and output a prediction for a given observation."
   ]
  },
  {
   "cell_type": "code",
   "execution_count": 448,
   "metadata": {},
   "outputs": [
    {
     "name": "stdout",
     "output_type": "stream",
     "text": [
      "Predictions for GaussianNB: [0 1 1 1 0 1 1 0 1 1 0 0 1 0 1 1 0 1 1 1 1 1 0 1 1 1 0 1 0 0 1 0 1 1 1 1 1\n",
      " 0 1 1 1 1 1 0 0 1 1 1 1 0 0 0 1 1 1 0 0 1 1 1 0 0 0 1 0 1 1 1 1 0 0 0 1 0\n",
      " 0 1 0 0 0 1 0 1 1 0 1 1 0 1 0 0 0 1 1 0 0 0 1 0 1 1 0 1 1 0 1 1 0 1 1 0 1\n",
      " 1 0 0 1 0 1 0 1 0 1 1 0 1 0 0 0 0 0 0 0 1 1 0 1 0 1 1 0 1 0 0 1 1 1 1 1 0\n",
      " 0 0 0 1 1 0 1 0 0 0 0 1 0 0 1 0 1 1 1 1 0 0 1 1 0 1 0 1 1 1 0 1 1 1 0 1]\n",
      "Predictions for LinearSVC: [0 0 1 1 0 1 1 0 1 1 1 0 1 0 1 1 0 1 1 0 1 1 0 1 1 1 0 1 0 0 1 0 1 1 1 0 1\n",
      " 0 1 1 1 1 1 0 0 1 0 1 1 1 0 0 1 1 1 0 0 1 0 1 0 0 0 1 0 1 1 1 1 1 0 0 1 1\n",
      " 0 1 0 1 0 0 0 1 1 0 1 1 0 1 0 0 0 1 1 0 1 0 1 0 1 1 0 1 0 0 1 1 0 0 1 0 1\n",
      " 1 0 0 1 0 1 0 1 1 1 1 1 1 0 0 0 0 0 0 0 1 1 0 1 0 1 1 0 1 0 0 1 1 1 1 0 0\n",
      " 0 0 0 1 1 0 1 0 0 0 0 1 0 0 1 0 1 1 1 1 0 0 1 1 0 1 0 1 0 1 0 0 1 1 0 1]\n",
      "Predictions for MLPClassifier: [0 0 0 0 0 0 1 1 0 0 0 0 0 0 0 1 1 1 0 0 1 0 0 0 0 0 0 0 0 0 0 0 0 0 0 0 0\n",
      " 0 0 0 0 0 0 0 0 0 0 0 1 0 0 0 0 0 0 0 0 0 0 0 1 1 0 0 0 0 0 0 0 0 0 0 0 0\n",
      " 0 0 0 0 0 0 0 0 0 0 0 0 0 0 0 1 1 0 0 0 0 0 0 1 0 0 0 0 0 0 0 0 1 1 0 0 0\n",
      " 0 0 0 0 0 0 1 0 1 0 1 1 0 0 0 0 1 0 1 0 0 0 0 0 1 0 0 0 0 0 1 0 0 0 0 0 0\n",
      " 0 0 0 0 0 0 0 0 0 0 0 0 0 0 1 1 0 0 0 0 0 0 0 0 0 0 0 0 0 0 1 0 0 0 0 0]\n",
      "Predictions for DecisionTreeClassifier: [0 1 1 1 0 1 1 0 1 1 1 0 1 0 1 1 0 1 1 0 1 1 0 1 1 1 0 1 0 0 1 0 1 1 1 1 1\n",
      " 0 1 1 1 1 1 0 0 1 1 1 1 1 0 0 1 1 1 0 1 1 1 1 0 0 0 1 0 1 1 1 1 1 1 0 1 1\n",
      " 0 1 0 1 0 1 0 1 1 0 1 1 0 1 0 0 0 1 1 0 1 0 1 0 1 1 0 1 1 0 1 1 0 0 1 0 1\n",
      " 1 0 0 1 0 1 0 1 1 1 1 1 1 0 0 0 0 0 0 1 1 1 0 1 0 1 1 0 1 0 0 1 1 1 1 1 0\n",
      " 0 0 0 1 1 0 1 0 0 0 0 1 0 0 1 0 1 1 0 1 0 0 1 1 0 1 0 1 0 1 0 1 1 1 0 1]\n"
     ]
    }
   ],
   "source": [
    "def ensemble_predict(ensemble, X):\n",
    "    probas = np.zeros((X.shape[0], 2))\n",
    "    proba_predictions = [clf.predict_proba(X) for clf in ensemble]\n",
    "    summed_probabilities = np.sum(proba_predictions, axis=0)\n",
    "\n",
    "    # Choose the class with the highest summed probabilities for each sample\n",
    "    final_predictions = np.argmax(summed_probabilities, axis=1)\n",
    "\n",
    "    return final_predictions\n",
    "\n",
    "for ensemble_name, classifier in trained_ensembles.items():\n",
    "    predictions = ensemble_predict(classifier, X_test)\n",
    "    print(f\"Predictions for {ensemble_name}: {predictions}\")"
   ]
  },
  {
   "cell_type": "markdown",
   "metadata": {},
   "source": [
    "## 5. Report 10-fold CV performances of the ensembles with a subsample ratio of 0.2. Compare to a regular decision tree (same subsample ratio). Now repeat these for a subsample ratio of 0.05"
   ]
  },
  {
   "cell_type": "code",
   "execution_count": 449,
   "metadata": {},
   "outputs": [],
   "source": [
    "def perform_cv(X, y, ensemble, subsample_ratio, n_splits=10):\n",
    "    kf = StratifiedKFold(n_splits=n_splits, shuffle=True, random_state=42)\n",
    "    accuracies = []\n",
    "\n",
    "    for train_index, test_index in kf.split(X, y):\n",
    "        X_train, X_test = X[train_index], X[test_index]\n",
    "        y_train, y_test = y[train_index], y[test_index]\n",
    "\n",
    "        subset_size = max(10, int(subsample_ratio * len(X_train)))\n",
    "        trained_ensemble_cv = ensemble_fit(ensemble, X_train, y_train, subset_size)\n",
    "        predictions = ensemble_predict(trained_ensemble_cv, X_test)\n",
    "        accuracy = accuracy_score(y_test, predictions)\n",
    "        accuracies.append(accuracy)\n",
    "\n",
    "    return np.mean(accuracies), np.std(accuracies)"
   ]
  },
  {
   "cell_type": "markdown",
   "metadata": {},
   "source": [
    "Define regular decision tree"
   ]
  },
  {
   "cell_type": "code",
   "execution_count": 450,
   "metadata": {},
   "outputs": [],
   "source": [
    "single_dt = DecisionTreeClassifier(max_depth=5, max_features=5, random_state=42)"
   ]
  },
  {
   "cell_type": "markdown",
   "metadata": {},
   "source": [
    "Compare the performance\n",
    "\n",
    "set the subsample ratio = 0.2"
   ]
  },
  {
   "cell_type": "code",
   "execution_count": 451,
   "metadata": {},
   "outputs": [
    {
     "name": "stdout",
     "output_type": "stream",
     "text": [
      "GaussianNB with subsample 0.2: CV Accuracy = 0.86 ±0.027\n",
      "LinearSVC with subsample 0.2: CV Accuracy = 0.87 ±0.033\n",
      "MLPClassifier with subsample 0.2: CV Accuracy = 0.45 ±0.019\n",
      "DecisionTreeClassifier with subsample 0.2: CV Accuracy = 0.85 ±0.028\n",
      "\n",
      "Single DT with subsample 0.2: CV Accuracy = 0.77 ±0.034\n"
     ]
    }
   ],
   "source": [
    "\n",
    "for name, ensemble in ensembles.items():\n",
    "    mean_acc, std_acc = perform_cv(X, y, ensemble, 0.2)\n",
    "    print(f\"{name} with subsample 0.2: CV Accuracy = {mean_acc:.2f} {chr(177)}{std_acc:.3f}\")\n",
    "\n",
    "mean_single_dt, std_single_dt = perform_cv(X, y, [single_dt], 0.2)\n",
    "print(f\"\\nSingle DT with subsample 0.2: CV Accuracy = {mean_single_dt:.2f} {chr(177)}{std_single_dt:.3f}\")\n"
   ]
  },
  {
   "cell_type": "markdown",
   "metadata": {},
   "source": [
    "Set subsample ratio to 0.05"
   ]
  },
  {
   "cell_type": "code",
   "execution_count": 452,
   "metadata": {},
   "outputs": [
    {
     "name": "stdout",
     "output_type": "stream",
     "text": [
      "GaussianNB with subsample 0.05: CV Accuracy = 0.85 ±0.033\n",
      "LinearSVC with subsample 0.05: CV Accuracy = 0.86 ±0.025\n",
      "MLPClassifier with subsample 0.05: CV Accuracy = 0.45 ±0.018\n",
      "DecisionTreeClassifier with subsample 0.05: CV Accuracy = 0.85 ±0.027\n",
      "\n",
      "Single DT with subsample 0.05: CV Accuracy = 0.70 ±0.078\n"
     ]
    }
   ],
   "source": [
    "for name, ensemble in ensembles.items():\n",
    "    mean_acc, std_acc = perform_cv(X, y, ensemble, 0.05)\n",
    "    print(f\"{name} with subsample 0.05: CV Accuracy = {mean_acc:.2f} {chr(177)}{std_acc:.3f}\")\n",
    "\n",
    "mean_single_dt, std_single_dt = perform_cv(X, y, [single_dt], 0.05)\n",
    "print(f\"\\nSingle DT with subsample 0.05: CV Accuracy = {mean_single_dt:.2f} {chr(177)}{std_single_dt:.3f}\")"
   ]
  },
  {
   "cell_type": "markdown",
   "metadata": {},
   "source": [
    "## 6. Report the 10-fold CV performances of the ensembles for the training subsample ratios of (0.005, 0.01, 0.03, 0.05, 0.1, 0.2)"
   ]
  },
  {
   "cell_type": "markdown",
   "metadata": {},
   "source": [
    "As mentioned above, the classifiers and ensembles are shown below"
   ]
  },
  {
   "cell_type": "code",
   "execution_count": 453,
   "metadata": {},
   "outputs": [],
   "source": [
    "classifiers = {\n",
    "    'GaussianNB': GaussianNB(),\n",
    "    'LinearSVC': SVC(kernel='linear', probability=True),\n",
    "    'MLPClassifier': MLPClassifier(hidden_layer_sizes=(3, 3), max_iter=30, tol=0.1, random_state=42),\n",
    "    'DecisionTreeClassifier': DecisionTreeClassifier(max_depth=5, max_features=5, random_state=42)\n",
    "}\n",
    "\n",
    "ensembles = {\n",
    "    'GaussianNB': [GaussianNB() for _ in range(ensemble_size)],\n",
    "    'LinearSVC': [SVC(kernel='linear', probability=True) for _ in range(ensemble_size)],\n",
    "    'MLPClassifier': [MLPClassifier(hidden_layer_sizes=(3, 3), max_iter=30, tol=0.1, random_state=42) for _ in range(ensemble_size)],\n",
    "    'DecisionTreeClassifier': [DecisionTreeClassifier(max_depth=5, max_features=5, random_state=42) for _ in range(ensemble_size)]\n",
    "}"
   ]
  },
  {
   "cell_type": "markdown",
   "metadata": {},
   "source": [
    "After testing, ratio with 0.005, 0.01 cannot generate result since it is too small."
   ]
  },
  {
   "cell_type": "code",
   "execution_count": 454,
   "metadata": {},
   "outputs": [
    {
     "name": "stdout",
     "output_type": "stream",
     "text": [
      "Results for GaussianNB:\n",
      "Ensemble, Subsample 0.03: Mean Accuracy = 0.85 ±0.037\n",
      "Single Classifier, Subsample 0.03: Mean Accuracy = 0.73 ±0.056\n",
      "Ensemble, Subsample 0.05: Mean Accuracy = 0.86 ±0.028\n",
      "Single Classifier, Subsample 0.05: Mean Accuracy = 0.76 ±0.069\n",
      "Ensemble, Subsample 0.1: Mean Accuracy = 0.86 ±0.029\n",
      "Single Classifier, Subsample 0.1: Mean Accuracy = 0.83 ±0.040\n",
      "Ensemble, Subsample 0.2: Mean Accuracy = 0.86 ±0.028\n",
      "Single Classifier, Subsample 0.2: Mean Accuracy = 0.85 ±0.042\n",
      "Results for LinearSVC:\n",
      "Ensemble, Subsample 0.03: Mean Accuracy = 0.85 ±0.037\n",
      "Single Classifier, Subsample 0.03: Mean Accuracy = 0.80 ±0.035\n",
      "Ensemble, Subsample 0.05: Mean Accuracy = 0.86 ±0.029\n",
      "Single Classifier, Subsample 0.05: Mean Accuracy = 0.78 ±0.062\n",
      "Ensemble, Subsample 0.1: Mean Accuracy = 0.86 ±0.031\n",
      "Single Classifier, Subsample 0.1: Mean Accuracy = 0.84 ±0.032\n",
      "Ensemble, Subsample 0.2: Mean Accuracy = 0.86 ±0.029\n",
      "Single Classifier, Subsample 0.2: Mean Accuracy = 0.85 ±0.026\n",
      "Results for MLPClassifier:\n",
      "Ensemble, Subsample 0.03: Mean Accuracy = 0.45 ±0.019\n",
      "Single Classifier, Subsample 0.03: Mean Accuracy = 0.46 ±0.020\n",
      "Ensemble, Subsample 0.05: Mean Accuracy = 0.45 ±0.018\n",
      "Single Classifier, Subsample 0.05: Mean Accuracy = 0.45 ±0.016\n",
      "Ensemble, Subsample 0.1: Mean Accuracy = 0.45 ±0.018\n",
      "Single Classifier, Subsample 0.1: Mean Accuracy = 0.46 ±0.020\n",
      "Ensemble, Subsample 0.2: Mean Accuracy = 0.45 ±0.018\n",
      "Single Classifier, Subsample 0.2: Mean Accuracy = 0.45 ±0.022\n",
      "Results for DecisionTreeClassifier:\n",
      "Ensemble, Subsample 0.03: Mean Accuracy = 0.83 ±0.024\n",
      "Single Classifier, Subsample 0.03: Mean Accuracy = 0.70 ±0.077\n",
      "Ensemble, Subsample 0.05: Mean Accuracy = 0.85 ±0.032\n",
      "Single Classifier, Subsample 0.05: Mean Accuracy = 0.75 ±0.040\n",
      "Ensemble, Subsample 0.1: Mean Accuracy = 0.85 ±0.033\n",
      "Single Classifier, Subsample 0.1: Mean Accuracy = 0.77 ±0.045\n",
      "Ensemble, Subsample 0.2: Mean Accuracy = 0.85 ±0.030\n",
      "Single Classifier, Subsample 0.2: Mean Accuracy = 0.80 ±0.038\n"
     ]
    }
   ],
   "source": [
    "subsample_ratios = [0.03, 0.05, 0.1, 0.2]\n",
    "\n",
    "for name, classifier in classifiers.items():\n",
    "    print(f\"Results for {name}:\")\n",
    "    for ratio in subsample_ratios:\n",
    "        # Evaluate the ensemble\n",
    "        mean_acc_ens, std_acc_ens = perform_cv(X, y, ensembles[name], ratio)\n",
    "        print(f\"Ensemble, Subsample {ratio}: Mean Accuracy = {mean_acc_ens:.2f} {chr(177)}{std_acc_ens:.3f}\")\n",
    "        \n",
    "        # Evaluate the regular classifier\n",
    "        mean_acc_clf, std_acc_clf = perform_cv(X, y, [classifier], ratio)\n",
    "        print(f\"Single Classifier, Subsample {ratio}: Mean Accuracy = {mean_acc_clf:.2f} {chr(177)}{std_acc_clf:.3f}\")"
   ]
  },
  {
   "cell_type": "markdown",
   "metadata": {},
   "source": [
    "### The results suggests that ensemble methods provides more accurate and stable models across different classifier types and subsample ratios than single classifier. The ensemble approach generally enhances performance, particularly for classifiers prone to high variance, such as LinearSVC and DecisionTreeClassifier. In contrast, for models like the MLPClassifier, where the fundamental issue might be model hyperparameters, ensemble methods do not significantly improve performance."
   ]
  },
  {
   "cell_type": "markdown",
   "metadata": {},
   "source": [
    "## 7. [10 pts] For each of the 4 types of classifier, plot the performances of the ensemble at the different subsample ratios and the performances of the regular classifier at the different subsample ratios on the same plot. \n",
    "\n",
    "From previous result, we can generate the data:"
   ]
  },
  {
   "cell_type": "code",
   "execution_count": 455,
   "metadata": {},
   "outputs": [],
   "source": [
    "# Subsample Ratios\n",
    "subsample_ratios = np.array([0.03, 0.05, 0.1, 0.2])\n",
    "\n",
    "# GaussianNB\n",
    "gaussian_nb_accuracies_ens = np.array([0.85, 0.86, 0.86, 0.86])\n",
    "gaussian_nb_stddev_ens = np.array([0.041, 0.035, 0.029, 0.027])\n",
    "gaussian_nb_accuracies_reg = np.array([0.77, 0.80, 0.83, 0.83])\n",
    "gaussian_nb_stddev_reg = np.array([0.075, 0.063, 0.051, 0.068])\n",
    "\n",
    "# LinearSVC\n",
    "linear_svc_accuracies_ens = np.array([0.85, 0.86, 0.87, 0.87])\n",
    "linear_svc_stddev_ens = np.array([0.035, 0.031, 0.030, 0.031])\n",
    "linear_svc_accuracies_reg = np.array([0.70, 0.82, 0.82, 0.84])\n",
    "linear_svc_stddev_reg = np.array([0.116, 0.043, 0.051, 0.033])\n",
    "\n",
    "# MLPClassifier\n",
    "mlp_accuracies_ens = np.array([0.45, 0.45, 0.45, 0.45])\n",
    "mlp_stddev_ens = np.array([0.018, 0.018, 0.018, 0.018])\n",
    "mlp_accuracies_reg = np.array([0.45, 0.45, 0.46, 0.45])\n",
    "mlp_stddev_reg = np.array([0.023, 0.024, 0.020, 0.017])\n",
    "\n",
    "# DecisionTreeClassifier\n",
    "decision_tree_accuracies_ens = np.array([0.84, 0.85, 0.85, 0.85])\n",
    "decision_tree_stddev_ens = np.array([0.025, 0.028, 0.030, 0.033])\n",
    "decision_tree_accuracies_reg = np.array([0.71, 0.71, 0.79, 0.79])\n",
    "decision_tree_stddev_reg = np.array([0.069, 0.053, 0.035, 0.051])\n"
   ]
  },
  {
   "cell_type": "code",
   "execution_count": 456,
   "metadata": {},
   "outputs": [
    {
     "data": {
      "image/png": "[encoded data removed]",
      "text/plain": [
       "<Figure size 1000x600 with 1 Axes>"
      ]
     },
     "metadata": {},
     "output_type": "display_data"
    },
    {
     "data": {
      "image/png": "[encoded data removed]",
      "text/plain": [
       "<Figure size 1000x600 with 1 Axes>"
      ]
     },
     "metadata": {},
     "output_type": "display_data"
    },
    {
     "data": {
      "image/png": "[encoded data removed]",
      "text/plain": [
       "<Figure size 1000x600 with 1 Axes>"
      ]
     },
     "metadata": {},
     "output_type": "display_data"
    },
    {
     "data": {
      "image/png": "[encoded data removed]",
      "text/plain": [
       "<Figure size 1000x600 with 1 Axes>"
      ]
     },
     "metadata": {},
     "output_type": "display_data"
    }
   ],
   "source": [
    "import matplotlib.pyplot as plt\n",
    "\n",
    "def plot_classifier_performance(subsample_ratios, accuracies_ens, stddev_ens, accuracies_reg, stddev_reg, title):\n",
    "    plt.figure(figsize=(10, 6))\n",
    "    plt.errorbar(subsample_ratios, accuracies_ens, yerr=stddev_ens, label='Ensemble', fmt='o-', color='blue', capsize=5)\n",
    "    plt.errorbar(subsample_ratios, accuracies_reg, yerr=stddev_reg, label='Regular', fmt='x--', color='red', capsize=5)\n",
    "    plt.title(title)\n",
    "    plt.xlabel('Subsample Ratio')\n",
    "    plt.ylabel('Mean Accuracy')\n",
    "    plt.grid(True)\n",
    "    plt.xticks(subsample_ratios)\n",
    "    plt.legend()\n",
    "    plt.show()\n",
    "\n",
    "# Plot for each classifier type\n",
    "plot_classifier_performance(subsample_ratios, gaussian_nb_accuracies_ens, gaussian_nb_stddev_ens, gaussian_nb_accuracies_reg, gaussian_nb_stddev_reg, 'Performance of GaussianNB')\n",
    "plot_classifier_performance(subsample_ratios, linear_svc_accuracies_ens, linear_svc_stddev_ens, linear_svc_accuracies_reg, linear_svc_stddev_reg, 'Performance of LinearSVC')\n",
    "plot_classifier_performance(subsample_ratios, mlp_accuracies_ens, mlp_stddev_ens, mlp_accuracies_reg, mlp_stddev_reg, 'Performance of MLPClassifier')\n",
    "plot_classifier_performance(subsample_ratios, decision_tree_accuracies_ens, decision_tree_stddev_ens, decision_tree_accuracies_reg, decision_tree_stddev_reg, 'Performance of DecisionTreeClassifier')\n"
   ]
  },
  {
   "cell_type": "markdown",
   "metadata": {},
   "source": [
    "- For GaussianNB, the ensemble's accuracy remains relatively stable and high compared to the single classifier, which shows some improvement as the subsample size increases. The ensemble technique improves the model’s robustness against overfitting compared to the single GaussianNB classifier.\n",
    "- For LinearSVC, ensembles shows significantly better performance, especially at lower subsample ratios. While the ensemble and single classifier accuracies converge at higher subsample sizes, the ensemble consistently maintains a lower standard deviation, enhancing model stability.\n",
    "- For MLPClassifier, both ensembles and single classifiers show poor performance, possibly due to insufficient model complexity or inappropriate hyperparameters for the given task.\n",
    "- For DecisionTreeClassifier, ensembles consistently perform better than single classifiers, especially in small subsample size."
   ]
  }
 ],
 "metadata": {
  "kernelspec": {
   "display_name": "Python 3",
   "language": "python",
   "name": "python3"
  },
  "language_info": {
   "codemirror_mode": {
    "name": "ipython",
    "version": 3
   },
   "file_extension": ".py",
   "mimetype": "text/x-python",
   "name": "python",
   "nbconvert_exporter": "python",
   "pygments_lexer": "ipython3",
   "version": "3.12.3"
  }
 },
 "nbformat": 4,
 "nbformat_minor": 2
}
